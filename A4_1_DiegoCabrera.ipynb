{
  "nbformat": 4,
  "nbformat_minor": 0,
  "metadata": {
    "colab": {
      "provenance": [],
      "authorship_tag": "ABX9TyNVKFT7+jGV7KcAXvPrf8N3",
      "include_colab_link": true
    },
    "kernelspec": {
      "name": "python3",
      "display_name": "Python 3"
    },
    "language_info": {
      "name": "python"
    }
  },
  "cells": [
    {
      "cell_type": "markdown",
      "metadata": {
        "id": "view-in-github",
        "colab_type": "text"
      },
      "source": [
        "<a href=\"https://colab.research.google.com/github/Shakkyra/TC3002B/blob/main/A4_1_DiegoCabrera.ipynb\" target=\"_parent\"><img src=\"https://colab.research.google.com/assets/colab-badge.svg\" alt=\"Open In Colab\"/></a>"
      ]
    },
    {
      "cell_type": "markdown",
      "source": [],
      "metadata": {
        "id": "xHO9lzp0BePN"
      }
    },
    {
      "cell_type": "markdown",
      "source": [
        "# Actividad 4.1. Procesos de la vida real como distribuciones de probabilidad\n",
        "\n",
        "### Diego Sebastián García Cabrera A01634071\n",
        "\n",
        "Kaggle Dataset: https://www.kaggle.com/datasets/atharvasoundankar/global-space-exploration-dataset-2000-2025/data\n",
        "\n",
        "### Objetivo\n",
        "Identificar y entender cuál es la distribución de probabilidad que mejor representa cómo se ha asignado el presupuesto a las misiones espaciales en el sector global de exploración espacial entre los años 2000 y 2025."
      ],
      "metadata": {
        "id": "tGtcb1J9Bff7"
      }
    },
    {
      "source": [
        "!pip install fitter\n",
        "import pandas as pd\n",
        "import matplotlib.pyplot as plt\n",
        "import seaborn as sns\n",
        "from fitter import Fitter"
      ],
      "cell_type": "code",
      "metadata": {
        "id": "mE1syBmKGvFM"
      },
      "execution_count": null,
      "outputs": []
    },
    {
      "source": [
        "import pandas as pd\n",
        "df = pd.read_csv('Global_Space_Exploration_Dataset.csv')"
      ],
      "cell_type": "code",
      "metadata": {
        "id": "nFtniwijH1qK"
      },
      "execution_count": 10,
      "outputs": []
    },
    {
      "source": [
        "import matplotlib.pyplot as plt\n",
        "\n",
        "plt.hist(df['Budget (in Billion $)'], bins=100)\n",
        "plt.xlabel('Budget (in Billion $)')\n",
        "plt.ylabel('Frequency')\n",
        "plt.title('Histogram of Mission Budgets')\n",
        "plt.show()"
      ],
      "cell_type": "code",
      "metadata": {
        "colab": {
          "base_uri": "https://localhost:8080/",
          "height": 472
        },
        "id": "hSV1S7fJH8V8",
        "outputId": "997d2c74-cdfe-4817-f046-3c8b243a7608"
      },
      "execution_count": 14,
      "outputs": [
        {
          "output_type": "display_data",
          "data": {
            "text/plain": [
              "<Figure size 640x480 with 1 Axes>"
            ],
            "image/png": "[encoded data removed]"
          },
          "metadata": {}
        }
      ]
    },
    {
      "source": [
        "!pip install --upgrade numpy\n",
        "!pip install --upgrade joblib\n",
        "from fitter import Fitter\n",
        "\n",
        "f = Fitter(df['Budget (in Billion $)'])\n",
        "f.fit()\n",
        "f.summary()"
      ],
      "cell_type": "code",
      "metadata": {
        "colab": {
          "base_uri": "https://localhost:8080/",
          "height": 651
        },
        "id": "NFvsovDeINcz",
        "outputId": "4982ecd5-12b9-40f7-fd51-cbfcef9615a9"
      },
      "execution_count": 15,
      "outputs": [
        {
          "output_type": "stream",
          "name": "stdout",
          "text": [
            "Requirement already satisfied: numpy in /usr/local/lib/python3.11/dist-packages (2.2.4)\n",
            "Requirement already satisfied: joblib in /usr/local/lib/python3.11/dist-packages (1.4.2)\n"
          ]
        },
        {
          "output_type": "execute_result",
          "data": {
            "text/plain": [
              "               sumsquare_error         aic         bic    kl_div  \\\n",
              "rdist                 0.001109  786.198594  804.217696  0.014158   \n",
              "powerlaw              0.001119  786.213402  804.232504  0.014301   \n",
              "vonmises_line         0.001133  786.247572  804.266675  0.014450   \n",
              "uniform               0.001147  784.151963  796.164698  0.014693   \n",
              "gennorm               0.001147  786.151969  804.171072  0.014693   \n",
              "\n",
              "               ks_statistic  ks_pvalue  \n",
              "rdist              0.013062   0.680323  \n",
              "powerlaw           0.014494   0.549249  \n",
              "vonmises_line      0.011636   0.806768  \n",
              "uniform            0.014589   0.540738  \n",
              "gennorm            0.499667   0.000000  "
            ],
            "text/html": [
              "\n",
              "  <div id=\"df-77458a9f-ad50-472c-a659-35f15e3e3578\" class=\"colab-df-container\">\n",
              "    <div>\n",
              "<style scoped>\n",
              "    .dataframe tbody tr th:only-of-type {\n",
              "        vertical-align: middle;\n",
              "    }\n",
              "\n",
              "    .dataframe tbody tr th {\n",
              "        vertical-align: top;\n",
              "    }\n",
              "\n",
              "    .dataframe thead th {\n",
              "        text-align: right;\n",
              "    }\n",
              "</style>\n",
              "<table border=\"1\" class=\"dataframe\">\n",
              "  <thead>\n",
              "    <tr style=\"text-align: right;\">\n",
              "      <th></th>\n",
              "      <th>sumsquare_error</th>\n",
              "      <th>aic</th>\n",
              "      <th>bic</th>\n",
              "      <th>kl_div</th>\n",
              "      <th>ks_statistic</th>\n",
              "      <th>ks_pvalue</th>\n",
              "    </tr>\n",
              "  </thead>\n",
              "  <tbody>\n",
              "    <tr>\n",
              "      <th>rdist</th>\n",
              "      <td>0.001109</td>\n",
              "      <td>786.198594</td>\n",
              "      <td>804.217696</td>\n",
              "      <td>0.014158</td>\n",
              "      <td>0.013062</td>\n",
              "      <td>0.680323</td>\n",
              "    </tr>\n",
              "    <tr>\n",
              "      <th>powerlaw</th>\n",
              "      <td>0.001119</td>\n",
              "      <td>786.213402</td>\n",
              "      <td>804.232504</td>\n",
              "      <td>0.014301</td>\n",
              "      <td>0.014494</td>\n",
              "      <td>0.549249</td>\n",
              "    </tr>\n",
              "    <tr>\n",
              "      <th>vonmises_line</th>\n",
              "      <td>0.001133</td>\n",
              "      <td>786.247572</td>\n",
              "      <td>804.266675</td>\n",
              "      <td>0.014450</td>\n",
              "      <td>0.011636</td>\n",
              "      <td>0.806768</td>\n",
              "    </tr>\n",
              "    <tr>\n",
              "      <th>uniform</th>\n",
              "      <td>0.001147</td>\n",
              "      <td>784.151963</td>\n",
              "      <td>796.164698</td>\n",
              "      <td>0.014693</td>\n",
              "      <td>0.014589</td>\n",
              "      <td>0.540738</td>\n",
              "    </tr>\n",
              "    <tr>\n",
              "      <th>gennorm</th>\n",
              "      <td>0.001147</td>\n",
              "      <td>786.151969</td>\n",
              "      <td>804.171072</td>\n",
              "      <td>0.014693</td>\n",
              "      <td>0.499667</td>\n",
              "      <td>0.000000</td>\n",
              "    </tr>\n",
              "  </tbody>\n",
              "</table>\n",
              "</div>\n",
              "    <div class=\"colab-df-buttons\">\n",
              "\n",
              "  <div class=\"colab-df-container\">\n",
              "    <button class=\"colab-df-convert\" onclick=\"convertToInteractive('df-77458a9f-ad50-472c-a659-35f15e3e3578')\"\n",
              "            title=\"Convert this dataframe to an interactive table.\"\n",
              "            style=\"display:none;\">\n",
              "\n",
              "  <svg xmlns=\"http://www.w3.org/2000/svg\" height=\"24px\" viewBox=\"0 -960 960 960\">\n",
              "    <path d=\"M120-120v-720h720v720H120Zm60-500h600v-160H180v160Zm220 220h160v-160H400v160Zm0 220h160v-160H400v160ZM180-400h160v-160H180v160Zm440 0h160v-160H620v160ZM180-180h160v-160H180v160Zm440 0h160v-160H620v160Z\"/>\n",
              "  </svg>\n",
              "    </button>\n",
              "\n",
              "  <style>\n",
              "    .colab-df-container {\n",
              "      display:flex;\n",
              "      gap: 12px;\n",
              "    }\n",
              "\n",
              "    .colab-df-convert {\n",
              "      background-color: #E8F0FE;\n",
              "      border: none;\n",
              "      border-radius: 50%;\n",
              "      cursor: pointer;\n",
              "      display: none;\n",
              "      fill: #1967D2;\n",
              "      height: 32px;\n",
              "      padding: 0 0 0 0;\n",
              "      width: 32px;\n",
              "    }\n",
              "\n",
              "    .colab-df-convert:hover {\n",
              "      background-color: #E2EBFA;\n",
              "      box-shadow: 0px 1px 2px rgba(60, 64, 67, 0.3), 0px 1px 3px 1px rgba(60, 64, 67, 0.15);\n",
              "      fill: #174EA6;\n",
              "    }\n",
              "\n",
              "    .colab-df-buttons div {\n",
              "      margin-bottom: 4px;\n",
              "    }\n",
              "\n",
              "    [theme=dark] .colab-df-convert {\n",
              "      background-color: #3B4455;\n",
              "      fill: #D2E3FC;\n",
              "    }\n",
              "\n",
              "    [theme=dark] .colab-df-convert:hover {\n",
              "      background-color: #434B5C;\n",
              "      box-shadow: 0px 1px 3px 1px rgba(0, 0, 0, 0.15);\n",
              "      filter: drop-shadow(0px 1px 2px rgba(0, 0, 0, 0.3));\n",
              "      fill: #FFFFFF;\n",
              "    }\n",
              "  </style>\n",
              "\n",
              "    <script>\n",
              "      const buttonEl =\n",
              "        document.querySelector('#df-77458a9f-ad50-472c-a659-35f15e3e3578 button.colab-df-convert');\n",
              "      buttonEl.style.display =\n",
              "        google.colab.kernel.accessAllowed ? 'block' : 'none';\n",
              "\n",
              "      async function convertToInteractive(key) {\n",
              "        const element = document.querySelector('#df-77458a9f-ad50-472c-a659-35f15e3e3578');\n",
              "        const dataTable =\n",
              "          await google.colab.kernel.invokeFunction('convertToInteractive',\n",
              "                                                    [key], {});\n",
              "        if (!dataTable) return;\n",
              "\n",
              "        const docLinkHtml = 'Like what you see? Visit the ' +\n",
              "          '<a target=\"_blank\" href=https://colab.research.google.com/notebooks/data_table.ipynb>data table notebook</a>'\n",
              "          + ' to learn more about interactive tables.';\n",
              "        element.innerHTML = '';\n",
              "        dataTable['output_type'] = 'display_data';\n",
              "        await google.colab.output.renderOutput(dataTable, element);\n",
              "        const docLink = document.createElement('div');\n",
              "        docLink.innerHTML = docLinkHtml;\n",
              "        element.appendChild(docLink);\n",
              "      }\n",
              "    </script>\n",
              "  </div>\n",
              "\n",
              "\n",
              "<div id=\"df-ecb27be8-e6c7-4933-a5a4-318e247831f6\">\n",
              "  <button class=\"colab-df-quickchart\" onclick=\"quickchart('df-ecb27be8-e6c7-4933-a5a4-318e247831f6')\"\n",
              "            title=\"Suggest charts\"\n",
              "            style=\"display:none;\">\n",
              "\n",
              "<svg xmlns=\"http://www.w3.org/2000/svg\" height=\"24px\"viewBox=\"0 0 24 24\"\n",
              "     width=\"24px\">\n",
              "    <g>\n",
              "        <path d=\"M19 3H5c-1.1 0-2 .9-2 2v14c0 1.1.9 2 2 2h14c1.1 0 2-.9 2-2V5c0-1.1-.9-2-2-2zM9 17H7v-7h2v7zm4 0h-2V7h2v10zm4 0h-2v-4h2v4z\"/>\n",
              "    </g>\n",
              "</svg>\n",
              "  </button>\n",
              "\n",
              "<style>\n",
              "  .colab-df-quickchart {\n",
              "      --bg-color: #E8F0FE;\n",
              "      --fill-color: #1967D2;\n",
              "      --hover-bg-color: #E2EBFA;\n",
              "      --hover-fill-color: #174EA6;\n",
              "      --disabled-fill-color: #AAA;\n",
              "      --disabled-bg-color: #DDD;\n",
              "  }\n",
              "\n",
              "  [theme=dark] .colab-df-quickchart {\n",
              "      --bg-color: #3B4455;\n",
              "      --fill-color: #D2E3FC;\n",
              "      --hover-bg-color: #434B5C;\n",
              "      --hover-fill-color: #FFFFFF;\n",
              "      --disabled-bg-color: #3B4455;\n",
              "      --disabled-fill-color: #666;\n",
              "  }\n",
              "\n",
              "  .colab-df-quickchart {\n",
              "    background-color: var(--bg-color);\n",
              "    border: none;\n",
              "    border-radius: 50%;\n",
              "    cursor: pointer;\n",
              "    display: none;\n",
              "    fill: var(--fill-color);\n",
              "    height: 32px;\n",
              "    padding: 0;\n",
              "    width: 32px;\n",
              "  }\n",
              "\n",
              "  .colab-df-quickchart:hover {\n",
              "    background-color: var(--hover-bg-color);\n",
              "    box-shadow: 0 1px 2px rgba(60, 64, 67, 0.3), 0 1px 3px 1px rgba(60, 64, 67, 0.15);\n",
              "    fill: var(--button-hover-fill-color);\n",
              "  }\n",
              "\n",
              "  .colab-df-quickchart-complete:disabled,\n",
              "  .colab-df-quickchart-complete:disabled:hover {\n",
              "    background-color: var(--disabled-bg-color);\n",
              "    fill: var(--disabled-fill-color);\n",
              "    box-shadow: none;\n",
              "  }\n",
              "\n",
              "  .colab-df-spinner {\n",
              "    border: 2px solid var(--fill-color);\n",
              "    border-color: transparent;\n",
              "    border-bottom-color: var(--fill-color);\n",
              "    animation:\n",
              "      spin 1s steps(1) infinite;\n",
              "  }\n",
              "\n",
              "  @keyframes spin {\n",
              "    0% {\n",
              "      border-color: transparent;\n",
              "      border-bottom-color: var(--fill-color);\n",
              "      border-left-color: var(--fill-color);\n",
              "    }\n",
              "    20% {\n",
              "      border-color: transparent;\n",
              "      border-left-color: var(--fill-color);\n",
              "      border-top-color: var(--fill-color);\n",
              "    }\n",
              "    30% {\n",
              "      border-color: transparent;\n",
              "      border-left-color: var(--fill-color);\n",
              "      border-top-color: var(--fill-color);\n",
              "      border-right-color: var(--fill-color);\n",
              "    }\n",
              "    40% {\n",
              "      border-color: transparent;\n",
              "      border-right-color: var(--fill-color);\n",
              "      border-top-color: var(--fill-color);\n",
              "    }\n",
              "    60% {\n",
              "      border-color: transparent;\n",
              "      border-right-color: var(--fill-color);\n",
              "    }\n",
              "    80% {\n",
              "      border-color: transparent;\n",
              "      border-right-color: var(--fill-color);\n",
              "      border-bottom-color: var(--fill-color);\n",
              "    }\n",
              "    90% {\n",
              "      border-color: transparent;\n",
              "      border-bottom-color: var(--fill-color);\n",
              "    }\n",
              "  }\n",
              "</style>\n",
              "\n",
              "  <script>\n",
              "    async function quickchart(key) {\n",
              "      const quickchartButtonEl =\n",
              "        document.querySelector('#' + key + ' button');\n",
              "      quickchartButtonEl.disabled = true;  // To prevent multiple clicks.\n",
              "      quickchartButtonEl.classList.add('colab-df-spinner');\n",
              "      try {\n",
              "        const charts = await google.colab.kernel.invokeFunction(\n",
              "            'suggestCharts', [key], {});\n",
              "      } catch (error) {\n",
              "        console.error('Error during call to suggestCharts:', error);\n",
              "      }\n",
              "      quickchartButtonEl.classList.remove('colab-df-spinner');\n",
              "      quickchartButtonEl.classList.add('colab-df-quickchart-complete');\n",
              "    }\n",
              "    (() => {\n",
              "      let quickchartButtonEl =\n",
              "        document.querySelector('#df-ecb27be8-e6c7-4933-a5a4-318e247831f6 button');\n",
              "      quickchartButtonEl.style.display =\n",
              "        google.colab.kernel.accessAllowed ? 'block' : 'none';\n",
              "    })();\n",
              "  </script>\n",
              "</div>\n",
              "\n",
              "    </div>\n",
              "  </div>\n"
            ],
            "application/vnd.google.colaboratory.intrinsic+json": {
              "type": "dataframe",
              "summary": "{\n  \"name\": \"f\",\n  \"rows\": 5,\n  \"fields\": [\n    {\n      \"column\": \"sumsquare_error\",\n      \"properties\": {\n        \"dtype\": \"number\",\n        \"std\": 1.7231654962857002e-05,\n        \"min\": 0.0011086373096645134,\n        \"max\": 0.0011473341409402398,\n        \"num_unique_values\": 5,\n        \"samples\": [\n          0.0011187629567916363,\n          0.0011473341409402398,\n          0.0011330688255897614\n        ],\n        \"semantic_type\": \"\",\n        \"description\": \"\"\n      }\n    },\n    {\n      \"column\": \"aic\",\n      \"properties\": {\n        \"dtype\": \"number\",\n        \"std\": 0.9178427349168717,\n        \"min\": 784.151962629887,\n        \"max\": 786.2475718160688,\n        \"num_unique_values\": 5,\n        \"samples\": [\n          786.2134015356528,\n          786.1519690089685,\n          786.2475718160688\n        ],\n        \"semantic_type\": \"\",\n        \"description\": \"\"\n      }\n    },\n    {\n      \"column\": \"bic\",\n      \"properties\": {\n        \"dtype\": \"number\",\n        \"std\": 3.6034928339130046,\n        \"min\": 796.1646977651875,\n        \"max\": 804.2666745190195,\n        \"num_unique_values\": 5,\n        \"samples\": [\n          804.2325042386035,\n          804.1710717119192,\n          804.2666745190195\n        ],\n        \"semantic_type\": \"\",\n        \"description\": \"\"\n      }\n    },\n    {\n      \"column\": \"kl_div\",\n      \"properties\": {\n        \"dtype\": \"number\",\n        \"std\": 0.00023704590567128685,\n        \"min\": 0.014158154884226627,\n        \"max\": 0.014692845846842195,\n        \"num_unique_values\": 4,\n        \"samples\": [\n          0.014301487488393952,\n          0.014692845846842195,\n          0.014158154884226627\n        ],\n        \"semantic_type\": \"\",\n        \"description\": \"\"\n      }\n    },\n    {\n      \"column\": \"ks_statistic\",\n      \"properties\": {\n        \"dtype\": \"number\",\n        \"std\": 0.2174481534823714,\n        \"min\": 0.01163647496942627,\n        \"max\": 0.49966666666666665,\n        \"num_unique_values\": 5,\n        \"samples\": [\n          0.014493552735762916,\n          0.49966666666666665,\n          0.01163647496942627\n        ],\n        \"semantic_type\": \"\",\n        \"description\": \"\"\n      }\n    },\n    {\n      \"column\": \"ks_pvalue\",\n      \"properties\": {\n        \"dtype\": \"number\",\n        \"std\": 0.308025816443191,\n        \"min\": 0.0,\n        \"max\": 0.806767589966555,\n        \"num_unique_values\": 5,\n        \"samples\": [\n          0.5492491862067188,\n          0.0,\n          0.806767589966555\n        ],\n        \"semantic_type\": \"\",\n        \"description\": \"\"\n      }\n    }\n  ]\n}"
            }
          },
          "metadata": {},
          "execution_count": 15
        },
        {
          "output_type": "display_data",
          "data": {
            "text/plain": [
              "<Figure size 640x480 with 1 Axes>"
            ],
            "image/png": "[encoded data removed]"
          },
          "metadata": {}
        }
      ]
    },
    {
      "source": [
        "best_distribution = f.get_best()\n",
        "distribution_name = list(best_distribution.keys())[0]\n",
        "parameters = best_distribution[distribution_name]\n",
        "print(f\"Best fitting distribution: {distribution_name}\")\n",
        "print(f\"Parameters: {parameters}\")"
      ],
      "cell_type": "code",
      "metadata": {
        "colab": {
          "base_uri": "https://localhost:8080/",
          "height": 0
        },
        "id": "tTAPppUjJRoD",
        "outputId": "967919e1-cc29-4807-f12b-cc4c8c964d19"
      },
      "execution_count": 17,
      "outputs": [
        {
          "output_type": "stream",
          "name": "stdout",
          "text": [
            "Best fitting distribution: rdist\n",
            "Parameters: {'c': np.float64(2.0716362915505933), 'loc': np.float64(25.250401087455174), 'scale': np.float64(24.721103013727983)}\n"
          ]
        }
      ]
    },
    {
      "cell_type": "markdown",
      "source": [
        "## Conclusiones\n",
        "En este análisis me propuse identificar el modelo estadístico que mejor representa cómo se han asignado los presupuestos a las misiones espaciales a nivel global entre los años 2000 y 2025. Al estudiar los datos, descubrí que los presupuestos siguen una distribución R (rdist), con parámetros que reflejan una concentración de valores en torno a un punto central, pero también la presencia de misiones con presupuestos notablemente elevados.\n",
        "El parámetro de forma (c ≈ 2.07) indica que, aunque la mayoría de las misiones cuentan con presupuestos dentro de un rango común, existen varios casos atípicos con montos significativamente más altos. El parámetro de ubicación, de aproximadamente 25.25 mil millones de dólares, señala el valor central de la distribución, mientras que el parámetro de escala (24.72) refleja el nivel de dispersión entre los distintos presupuestos.\n",
        "Comprender esta distribución me permitió ir más allá de una simple observación de los datos. El modelo tiene aplicaciones prácticas: puede ayudar a las agencias espaciales a planear presupuestos más realistas, evaluar riesgos financieros con mayor precisión, detectar anomalías que podrían representar tanto errores como innovaciones, y generar escenarios simulados para la planificación estratégica."
      ],
      "metadata": {
        "id": "bSoGEnrlN4rz"
      }
    }
  ]
}